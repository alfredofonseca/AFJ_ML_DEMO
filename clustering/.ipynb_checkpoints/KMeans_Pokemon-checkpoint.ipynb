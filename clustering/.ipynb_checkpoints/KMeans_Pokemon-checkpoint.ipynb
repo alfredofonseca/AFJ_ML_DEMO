{
 "cells": [
  {
   "cell_type": "markdown",
   "id": "84b68570",
   "metadata": {},
   "source": [
    "# KMeans Clustering"
   ]
  },
  {
   "cell_type": "code",
   "execution_count": 27,
   "id": "0c55f7fc",
   "metadata": {},
   "outputs": [
    {
     "name": "stdout",
     "output_type": "stream",
     "text": [
      "The scikit-learn version is 0.24.2.\n"
     ]
    }
   ],
   "source": [
    "import sklearn\n",
    "print('The scikit-learn version is {}.'.format(sklearn.__version__))\n"
   ]
  },
  {
   "cell_type": "markdown",
   "id": "8ac4d184",
   "metadata": {},
   "source": [
    "scikit-learn Documentation : https://scikit-learn.org/0.24/"
   ]
  },
  {
   "cell_type": "markdown",
   "id": "786f6f21",
   "metadata": {},
   "source": [
    "## Read Data"
   ]
  },
  {
   "cell_type": "code",
   "execution_count": 28,
   "id": "247fddf0",
   "metadata": {},
   "outputs": [],
   "source": [
    "from sklearn.cluster import kmeans_plusplus\n",
    "import numpy as np\n",
    "import pandas as pd\n"
   ]
  },
  {
   "cell_type": "code",
   "execution_count": 29,
   "id": "40f2333d",
   "metadata": {},
   "outputs": [],
   "source": [
    "df = pd.read_csv(\"POKEMON.csv\")"
   ]
  },
  {
   "cell_type": "markdown",
   "id": "d1382060",
   "metadata": {},
   "source": [
    "## Data Exploration"
   ]
  },
  {
   "cell_type": "code",
   "execution_count": 30,
   "id": "ded4cd64",
   "metadata": {},
   "outputs": [
    {
     "data": {
      "text/html": [
       "<div>\n",
       "<style scoped>\n",
       "    .dataframe tbody tr th:only-of-type {\n",
       "        vertical-align: middle;\n",
       "    }\n",
       "\n",
       "    .dataframe tbody tr th {\n",
       "        vertical-align: top;\n",
       "    }\n",
       "\n",
       "    .dataframe thead th {\n",
       "        text-align: right;\n",
       "    }\n",
       "</style>\n",
       "<table border=\"1\" class=\"dataframe\">\n",
       "  <thead>\n",
       "    <tr style=\"text-align: right;\">\n",
       "      <th></th>\n",
       "      <th>Pokemon</th>\n",
       "      <th>HP</th>\n",
       "      <th>Attack</th>\n",
       "      <th>Defense</th>\n",
       "      <th>Speed</th>\n",
       "    </tr>\n",
       "  </thead>\n",
       "  <tbody>\n",
       "    <tr>\n",
       "      <th>0</th>\n",
       "      <td>Chansey</td>\n",
       "      <td>250</td>\n",
       "      <td>5</td>\n",
       "      <td>5</td>\n",
       "      <td>50</td>\n",
       "    </tr>\n",
       "    <tr>\n",
       "      <th>1</th>\n",
       "      <td>Snorlax</td>\n",
       "      <td>160</td>\n",
       "      <td>110</td>\n",
       "      <td>65</td>\n",
       "      <td>30</td>\n",
       "    </tr>\n",
       "    <tr>\n",
       "      <th>2</th>\n",
       "      <td>Dragonite</td>\n",
       "      <td>91</td>\n",
       "      <td>134</td>\n",
       "      <td>95</td>\n",
       "      <td>80</td>\n",
       "    </tr>\n",
       "    <tr>\n",
       "      <th>3</th>\n",
       "      <td>Rhydon</td>\n",
       "      <td>105</td>\n",
       "      <td>130</td>\n",
       "      <td>120</td>\n",
       "      <td>40</td>\n",
       "    </tr>\n",
       "    <tr>\n",
       "      <th>4</th>\n",
       "      <td>Pikachu</td>\n",
       "      <td>35</td>\n",
       "      <td>55</td>\n",
       "      <td>40</td>\n",
       "      <td>90</td>\n",
       "    </tr>\n",
       "  </tbody>\n",
       "</table>\n",
       "</div>"
      ],
      "text/plain": [
       "     Pokemon   HP  Attack  Defense  Speed\n",
       "0    Chansey  250       5        5     50\n",
       "1    Snorlax  160     110       65     30\n",
       "2  Dragonite   91     134       95     80\n",
       "3     Rhydon  105     130      120     40\n",
       "4    Pikachu   35      55       40     90"
      ]
     },
     "execution_count": 30,
     "metadata": {},
     "output_type": "execute_result"
    }
   ],
   "source": [
    "df.head()"
   ]
  },
  {
   "cell_type": "code",
   "execution_count": 31,
   "id": "96b303b1",
   "metadata": {},
   "outputs": [
    {
     "data": {
      "text/plain": [
       "(150, 5)"
      ]
     },
     "execution_count": 31,
     "metadata": {},
     "output_type": "execute_result"
    }
   ],
   "source": [
    "df.shape"
   ]
  },
  {
   "cell_type": "code",
   "execution_count": 32,
   "id": "8d8944a9",
   "metadata": {},
   "outputs": [
    {
     "name": "stdout",
     "output_type": "stream",
     "text": [
      "<class 'pandas.core.frame.DataFrame'>\n",
      "RangeIndex: 150 entries, 0 to 149\n",
      "Data columns (total 5 columns):\n",
      " #   Column   Non-Null Count  Dtype \n",
      "---  ------   --------------  ----- \n",
      " 0   Pokemon  150 non-null    object\n",
      " 1   HP       150 non-null    int64 \n",
      " 2   Attack   150 non-null    int64 \n",
      " 3   Defense  150 non-null    int64 \n",
      " 4   Speed    150 non-null    int64 \n",
      "dtypes: int64(4), object(1)\n",
      "memory usage: 6.0+ KB\n"
     ]
    }
   ],
   "source": [
    "df.info()"
   ]
  },
  {
   "cell_type": "code",
   "execution_count": 33,
   "id": "314b3af5",
   "metadata": {},
   "outputs": [
    {
     "data": {
      "text/html": [
       "<div>\n",
       "<style scoped>\n",
       "    .dataframe tbody tr th:only-of-type {\n",
       "        vertical-align: middle;\n",
       "    }\n",
       "\n",
       "    .dataframe tbody tr th {\n",
       "        vertical-align: top;\n",
       "    }\n",
       "\n",
       "    .dataframe thead th {\n",
       "        text-align: right;\n",
       "    }\n",
       "</style>\n",
       "<table border=\"1\" class=\"dataframe\">\n",
       "  <thead>\n",
       "    <tr style=\"text-align: right;\">\n",
       "      <th></th>\n",
       "      <th>HP</th>\n",
       "      <th>Attack</th>\n",
       "      <th>Defense</th>\n",
       "      <th>Speed</th>\n",
       "    </tr>\n",
       "  </thead>\n",
       "  <tbody>\n",
       "    <tr>\n",
       "      <th>count</th>\n",
       "      <td>150.000000</td>\n",
       "      <td>150.000000</td>\n",
       "      <td>150.000000</td>\n",
       "      <td>150.000000</td>\n",
       "    </tr>\n",
       "    <tr>\n",
       "      <th>mean</th>\n",
       "      <td>64.273333</td>\n",
       "      <td>72.720000</td>\n",
       "      <td>68.333333</td>\n",
       "      <td>69.120000</td>\n",
       "    </tr>\n",
       "    <tr>\n",
       "      <th>std</th>\n",
       "      <td>28.675902</td>\n",
       "      <td>26.602498</td>\n",
       "      <td>26.973929</td>\n",
       "      <td>26.738083</td>\n",
       "    </tr>\n",
       "    <tr>\n",
       "      <th>min</th>\n",
       "      <td>10.000000</td>\n",
       "      <td>5.000000</td>\n",
       "      <td>5.000000</td>\n",
       "      <td>15.000000</td>\n",
       "    </tr>\n",
       "    <tr>\n",
       "      <th>25%</th>\n",
       "      <td>45.000000</td>\n",
       "      <td>52.000000</td>\n",
       "      <td>50.000000</td>\n",
       "      <td>48.500000</td>\n",
       "    </tr>\n",
       "    <tr>\n",
       "      <th>50%</th>\n",
       "      <td>60.000000</td>\n",
       "      <td>70.000000</td>\n",
       "      <td>65.000000</td>\n",
       "      <td>70.000000</td>\n",
       "    </tr>\n",
       "    <tr>\n",
       "      <th>75%</th>\n",
       "      <td>80.000000</td>\n",
       "      <td>90.000000</td>\n",
       "      <td>84.500000</td>\n",
       "      <td>90.000000</td>\n",
       "    </tr>\n",
       "    <tr>\n",
       "      <th>max</th>\n",
       "      <td>250.000000</td>\n",
       "      <td>134.000000</td>\n",
       "      <td>180.000000</td>\n",
       "      <td>140.000000</td>\n",
       "    </tr>\n",
       "  </tbody>\n",
       "</table>\n",
       "</div>"
      ],
      "text/plain": [
       "               HP      Attack     Defense       Speed\n",
       "count  150.000000  150.000000  150.000000  150.000000\n",
       "mean    64.273333   72.720000   68.333333   69.120000\n",
       "std     28.675902   26.602498   26.973929   26.738083\n",
       "min     10.000000    5.000000    5.000000   15.000000\n",
       "25%     45.000000   52.000000   50.000000   48.500000\n",
       "50%     60.000000   70.000000   65.000000   70.000000\n",
       "75%     80.000000   90.000000   84.500000   90.000000\n",
       "max    250.000000  134.000000  180.000000  140.000000"
      ]
     },
     "execution_count": 33,
     "metadata": {},
     "output_type": "execute_result"
    }
   ],
   "source": [
    "df.describe()"
   ]
  },
  {
   "cell_type": "markdown",
   "id": "878f6a84",
   "metadata": {},
   "source": [
    "## Plot"
   ]
  },
  {
   "cell_type": "code",
   "execution_count": 34,
   "id": "bc067626",
   "metadata": {},
   "outputs": [],
   "source": [
    "import matplotlib.pyplot as plt"
   ]
  },
  {
   "cell_type": "code",
   "execution_count": 35,
   "id": "f754077e",
   "metadata": {},
   "outputs": [
    {
     "data": {
      "image/png": "[encoded data removed]",
      "text/plain": [
       "<Figure size 432x288 with 1 Axes>"
      ]
     },
     "metadata": {
      "needs_background": "light"
     },
     "output_type": "display_data"
    }
   ],
   "source": [
    "# plot\n",
    "plt.scatter(\n",
    "   df['HP'], df['Attack']\n",
    ")\n",
    "\n",
    "plt.xlabel('HP')\n",
    "plt.ylabel('Attack')\n",
    "\n",
    "plt.show()"
   ]
  },
  {
   "cell_type": "code",
   "execution_count": 10,
   "id": "6a83def2",
   "metadata": {},
   "outputs": [
    {
     "data": {
      "image/png": "[encoded data removed]",
      "text/plain": [
       "<Figure size 432x288 with 1 Axes>"
      ]
     },
     "metadata": {
      "needs_background": "light"
     },
     "output_type": "display_data"
    }
   ],
   "source": [
    "# plot\n",
    "plt.scatter(\n",
    "   df['Defense'], df['Attack']\n",
    ")\n",
    "\n",
    "plt.xlabel('Defense')\n",
    "plt.ylabel('Attack')\n",
    "\n",
    "plt.show()"
   ]
  },
  {
   "cell_type": "code",
   "execution_count": 36,
   "id": "75597f83",
   "metadata": {},
   "outputs": [
    {
     "data": {
      "image/png": "[encoded data removed]",
      "text/plain": [
       "<Figure size 432x288 with 1 Axes>"
      ]
     },
     "metadata": {
      "needs_background": "light"
     },
     "output_type": "display_data"
    }
   ],
   "source": [
    "# plot\n",
    "plt.scatter(\n",
    "   df['Speed'], df['Attack']\n",
    ")\n",
    "\n",
    "plt.xlabel('Speed')\n",
    "plt.ylabel('Attack')\n",
    "\n",
    "plt.show()"
   ]
  },
  {
   "cell_type": "markdown",
   "id": "b322d21d",
   "metadata": {},
   "source": [
    "## Learn"
   ]
  },
  {
   "cell_type": "code",
   "execution_count": 11,
   "id": "b0cf221c",
   "metadata": {},
   "outputs": [],
   "source": [
    "N_CLUSTERS=12"
   ]
  },
  {
   "cell_type": "code",
   "execution_count": 12,
   "id": "e2c07193",
   "metadata": {},
   "outputs": [],
   "source": [
    "from sklearn.cluster import KMeans\n",
    "\n",
    "km = KMeans(\n",
    "    n_clusters=N_CLUSTERS, init='random',\n",
    "    n_init=12, max_iter=300, \n",
    "    tol=1e-04, random_state=42\n",
    ")\n",
    "y_km = km.fit_predict(df[['HP','Attack','Defense','Speed']])"
   ]
  },
  {
   "cell_type": "code",
   "execution_count": 13,
   "id": "baf659a6",
   "metadata": {},
   "outputs": [
    {
     "data": {
      "text/plain": [
       "array([ 2,  6,  7,  7,  3,  7, 11,  7,  7,  7,  7, 11,  7,  9,  9,  9, 11,\n",
       "        6, 11,  9, 11, 11,  4,  9,  9,  9,  6,  7,  9,  9,  9,  6,  7, 11,\n",
       "        4,  4,  4,  9, 11,  9,  4,  0, 11, 11,  0,  6,  9,  4, 11, 11,  3,\n",
       "        9, 11,  9,  0,  9,  9,  0,  9,  5,  4,  9,  5,  4,  4, 10,  0,  4,\n",
       "        0,  4,  0,  4, 10,  6,  3,  6,  6,  6,  0,  0, 10,  1,  3,  6,  5,\n",
       "        0,  0,  0,  5,  0,  4, 10,  4,  4,  3, 10,  4,  5,  3,  4,  5,  3,\n",
       "        4, 10, 10, 10, 10,  5,  4,  5, 10,  8, 10, 10,  3,  0,  0,  4,  1,\n",
       "        3,  3,  1,  5,  1,  1,  5,  5,  5,  3,  3, 10, 10,  8,  4,  3, 10,\n",
       "        5, 10,  4,  1,  1,  8,  8,  1,  1,  8,  1,  1,  8,  8],\n",
       "      dtype=int32)"
      ]
     },
     "execution_count": 13,
     "metadata": {},
     "output_type": "execute_result"
    }
   ],
   "source": [
    "y_km"
   ]
  },
  {
   "cell_type": "code",
   "execution_count": 14,
   "id": "ba83920e",
   "metadata": {},
   "outputs": [],
   "source": [
    "df['cluster'] = y_km"
   ]
  },
  {
   "cell_type": "code",
   "execution_count": 15,
   "id": "44945092",
   "metadata": {},
   "outputs": [
    {
     "data": {
      "text/html": [
       "<div>\n",
       "<style scoped>\n",
       "    .dataframe tbody tr th:only-of-type {\n",
       "        vertical-align: middle;\n",
       "    }\n",
       "\n",
       "    .dataframe tbody tr th {\n",
       "        vertical-align: top;\n",
       "    }\n",
       "\n",
       "    .dataframe thead th {\n",
       "        text-align: right;\n",
       "    }\n",
       "</style>\n",
       "<table border=\"1\" class=\"dataframe\">\n",
       "  <thead>\n",
       "    <tr style=\"text-align: right;\">\n",
       "      <th></th>\n",
       "      <th>Pokemon</th>\n",
       "      <th>HP</th>\n",
       "      <th>Attack</th>\n",
       "      <th>Defense</th>\n",
       "      <th>Speed</th>\n",
       "      <th>cluster</th>\n",
       "    </tr>\n",
       "  </thead>\n",
       "  <tbody>\n",
       "    <tr>\n",
       "      <th>0</th>\n",
       "      <td>Chansey</td>\n",
       "      <td>250</td>\n",
       "      <td>5</td>\n",
       "      <td>5</td>\n",
       "      <td>50</td>\n",
       "      <td>2</td>\n",
       "    </tr>\n",
       "    <tr>\n",
       "      <th>1</th>\n",
       "      <td>Snorlax</td>\n",
       "      <td>160</td>\n",
       "      <td>110</td>\n",
       "      <td>65</td>\n",
       "      <td>30</td>\n",
       "      <td>6</td>\n",
       "    </tr>\n",
       "    <tr>\n",
       "      <th>2</th>\n",
       "      <td>Dragonite</td>\n",
       "      <td>91</td>\n",
       "      <td>134</td>\n",
       "      <td>95</td>\n",
       "      <td>80</td>\n",
       "      <td>7</td>\n",
       "    </tr>\n",
       "    <tr>\n",
       "      <th>3</th>\n",
       "      <td>Rhydon</td>\n",
       "      <td>105</td>\n",
       "      <td>130</td>\n",
       "      <td>120</td>\n",
       "      <td>40</td>\n",
       "      <td>7</td>\n",
       "    </tr>\n",
       "    <tr>\n",
       "      <th>4</th>\n",
       "      <td>Pikachu</td>\n",
       "      <td>35</td>\n",
       "      <td>55</td>\n",
       "      <td>40</td>\n",
       "      <td>90</td>\n",
       "      <td>3</td>\n",
       "    </tr>\n",
       "  </tbody>\n",
       "</table>\n",
       "</div>"
      ],
      "text/plain": [
       "     Pokemon   HP  Attack  Defense  Speed  cluster\n",
       "0    Chansey  250       5        5     50        2\n",
       "1    Snorlax  160     110       65     30        6\n",
       "2  Dragonite   91     134       95     80        7\n",
       "3     Rhydon  105     130      120     40        7\n",
       "4    Pikachu   35      55       40     90        3"
      ]
     },
     "execution_count": 15,
     "metadata": {},
     "output_type": "execute_result"
    }
   ],
   "source": [
    "df.head()"
   ]
  },
  {
   "cell_type": "code",
   "execution_count": 16,
   "id": "4a72af67",
   "metadata": {},
   "outputs": [
    {
     "name": "stdout",
     "output_type": "stream",
     "text": [
      "--> Processing Cluster 0\n",
      "...  shape (15, 6)\n",
      "--> Processing Cluster 1\n",
      "...  shape (11, 6)\n",
      "--> Processing Cluster 2\n",
      "...  shape (1, 6)\n",
      "--> Processing Cluster 3\n",
      "...  shape (13, 6)\n",
      "--> Processing Cluster 4\n",
      "...  shape (22, 6)\n",
      "--> Processing Cluster 5\n",
      "...  shape (13, 6)\n",
      "--> Processing Cluster 6\n",
      "...  shape (10, 6)\n",
      "--> Processing Cluster 7\n",
      "...  shape (10, 6)\n",
      "--> Processing Cluster 8\n",
      "...  shape (7, 6)\n",
      "--> Processing Cluster 9\n",
      "...  shape (19, 6)\n",
      "--> Processing Cluster 10\n",
      "...  shape (16, 6)\n",
      "--> Processing Cluster 11\n",
      "...  shape (13, 6)\n"
     ]
    }
   ],
   "source": [
    "clusters = []\n",
    "\n",
    "for i in range(0, N_CLUSTERS):\n",
    "    print(f\"--> Processing Cluster {i}\")\n",
    "    cluster = df[df['cluster'] == i]\n",
    "    print(f\"...  shape {cluster.shape}\")\n",
    "    clusters.append(cluster)"
   ]
  },
  {
   "cell_type": "markdown",
   "id": "8891afcc",
   "metadata": {},
   "source": [
    "## Plot Clusters"
   ]
  },
  {
   "cell_type": "code",
   "execution_count": 21,
   "id": "e51a7b30",
   "metadata": {},
   "outputs": [],
   "source": [
    "colors = ['#1f77b4', '#ff7f0e', '#000000', '#0000ff', '#2ca02c', '#d62728', '#9467bd', '#8c564b', '#e377c2', '#7f7f7f', '#bcbd22', '#17becf']"
   ]
  },
  {
   "cell_type": "markdown",
   "id": "23095dcc",
   "metadata": {},
   "source": [
    "#### HP vs Attack"
   ]
  },
  {
   "cell_type": "code",
   "execution_count": 25,
   "id": "2667303d",
   "metadata": {},
   "outputs": [
    {
     "name": "stdout",
     "output_type": "stream",
     "text": [
      "--> Plotting Cluster 0\n",
      "--> Plotting Cluster 1\n",
      "--> Plotting Cluster 2\n",
      "--> Plotting Cluster 3\n",
      "--> Plotting Cluster 4\n",
      "--> Plotting Cluster 5\n",
      "--> Plotting Cluster 6\n",
      "--> Plotting Cluster 7\n",
      "--> Plotting Cluster 8\n",
      "--> Plotting Cluster 9\n",
      "--> Plotting Cluster 10\n",
      "--> Plotting Cluster 11\n"
     ]
    },
    {
     "data": {
      "image/png": "[encoded data removed]",
      "text/plain": [
       "<Figure size 432x288 with 1 Axes>"
      ]
     },
     "metadata": {
      "needs_background": "light"
     },
     "output_type": "display_data"
    }
   ],
   "source": [
    "for i in range(0, N_CLUSTERS):\n",
    "    print(f\"--> Plotting Cluster {i}\")\n",
    "    plt.scatter(\n",
    "       clusters[i]['HP'], clusters[i]['Attack'], color=colors[i]\n",
    "    )\n",
    "  \n",
    "plt.xlabel('HP')\n",
    "plt.ylabel('Attack')\n",
    "\n",
    "plt.show()"
   ]
  },
  {
   "cell_type": "markdown",
   "id": "f5f71c3f",
   "metadata": {},
   "source": [
    "#### Defense vs Attack"
   ]
  },
  {
   "cell_type": "code",
   "execution_count": 26,
   "id": "350a2d21",
   "metadata": {},
   "outputs": [
    {
     "name": "stdout",
     "output_type": "stream",
     "text": [
      "--> Plotting Cluster 0\n",
      "--> Plotting Cluster 1\n",
      "--> Plotting Cluster 2\n",
      "--> Plotting Cluster 3\n",
      "--> Plotting Cluster 4\n",
      "--> Plotting Cluster 5\n",
      "--> Plotting Cluster 6\n",
      "--> Plotting Cluster 7\n",
      "--> Plotting Cluster 8\n",
      "--> Plotting Cluster 9\n",
      "--> Plotting Cluster 10\n",
      "--> Plotting Cluster 11\n"
     ]
    },
    {
     "data": {
      "image/png": "[encoded data removed]",
      "text/plain": [
       "<Figure size 432x288 with 1 Axes>"
      ]
     },
     "metadata": {
      "needs_background": "light"
     },
     "output_type": "display_data"
    }
   ],
   "source": [
    "for i in range(0, N_CLUSTERS):\n",
    "    print(f\"--> Plotting Cluster {i}\")\n",
    "    plt.scatter(\n",
    "       clusters[i]['Defense'], clusters[i]['Attack'], color=colors[i]\n",
    "    )\n",
    "  \n",
    "plt.xlabel('Defense')\n",
    "plt.ylabel('Attack')\n",
    "\n",
    "plt.show()"
   ]
  },
  {
   "cell_type": "markdown",
   "id": "933ee2d5",
   "metadata": {},
   "source": [
    "#### Speed vs Attack"
   ]
  },
  {
   "cell_type": "code",
   "execution_count": 37,
   "id": "458c08f9",
   "metadata": {},
   "outputs": [
    {
     "name": "stdout",
     "output_type": "stream",
     "text": [
      "--> Plotting Cluster 0\n",
      "--> Plotting Cluster 1\n",
      "--> Plotting Cluster 2\n",
      "--> Plotting Cluster 3\n",
      "--> Plotting Cluster 4\n",
      "--> Plotting Cluster 5\n",
      "--> Plotting Cluster 6\n",
      "--> Plotting Cluster 7\n",
      "--> Plotting Cluster 8\n",
      "--> Plotting Cluster 9\n",
      "--> Plotting Cluster 10\n",
      "--> Plotting Cluster 11\n"
     ]
    },
    {
     "data": {
      "image/png": "[encoded data removed]",
      "text/plain": [
       "<Figure size 432x288 with 1 Axes>"
      ]
     },
     "metadata": {
      "needs_background": "light"
     },
     "output_type": "display_data"
    }
   ],
   "source": [
    "for i in range(0, N_CLUSTERS):\n",
    "    print(f\"--> Plotting Cluster {i}\")\n",
    "    plt.scatter(\n",
    "       clusters[i]['Speed'], clusters[i]['Attack'], color=colors[i]\n",
    "    )\n",
    "  \n",
    "plt.xlabel('Speed')\n",
    "plt.ylabel('Attack')\n",
    "\n",
    "plt.show()"
   ]
  },
  {
   "cell_type": "markdown",
   "id": "c9a59c6d",
   "metadata": {},
   "source": [
    "## Cluster with one pokemon"
   ]
  },
  {
   "cell_type": "code",
   "execution_count": 24,
   "id": "1fa6057e",
   "metadata": {},
   "outputs": [
    {
     "data": {
      "text/html": [
       "<div>\n",
       "<style scoped>\n",
       "    .dataframe tbody tr th:only-of-type {\n",
       "        vertical-align: middle;\n",
       "    }\n",
       "\n",
       "    .dataframe tbody tr th {\n",
       "        vertical-align: top;\n",
       "    }\n",
       "\n",
       "    .dataframe thead th {\n",
       "        text-align: right;\n",
       "    }\n",
       "</style>\n",
       "<table border=\"1\" class=\"dataframe\">\n",
       "  <thead>\n",
       "    <tr style=\"text-align: right;\">\n",
       "      <th></th>\n",
       "      <th>Pokemon</th>\n",
       "      <th>HP</th>\n",
       "      <th>Attack</th>\n",
       "      <th>Defense</th>\n",
       "      <th>Speed</th>\n",
       "      <th>cluster</th>\n",
       "    </tr>\n",
       "  </thead>\n",
       "  <tbody>\n",
       "    <tr>\n",
       "      <th>0</th>\n",
       "      <td>Chansey</td>\n",
       "      <td>250</td>\n",
       "      <td>5</td>\n",
       "      <td>5</td>\n",
       "      <td>50</td>\n",
       "      <td>2</td>\n",
       "    </tr>\n",
       "  </tbody>\n",
       "</table>\n",
       "</div>"
      ],
      "text/plain": [
       "   Pokemon   HP  Attack  Defense  Speed  cluster\n",
       "0  Chansey  250       5        5     50        2"
      ]
     },
     "execution_count": 24,
     "metadata": {},
     "output_type": "execute_result"
    }
   ],
   "source": [
    "clusters[2].head()"
   ]
  },
  {
   "cell_type": "markdown",
   "id": "1d7c1dee",
   "metadata": {},
   "source": [
    "Chansey is different from other pokemons. Chansey is a nurse pokemon, not a warrior\n",
    "\n",
    "<img src=\"Chansey.png\" alt=\"Chansey\" width=\"200\"/>\n"
   ]
  },
  {
   "cell_type": "code",
   "execution_count": null,
   "id": "3a6f9653",
   "metadata": {},
   "outputs": [],
   "source": []
  }
 ],
 "metadata": {
  "kernelspec": {
   "display_name": "Python 3",
   "language": "python",
   "name": "python3"
  },
  "language_info": {
   "codemirror_mode": {
    "name": "ipython",
    "version": 3
   },
   "file_extension": ".py",
   "mimetype": "text/x-python",
   "name": "python",
   "nbconvert_exporter": "python",
   "pygments_lexer": "ipython3",
   "version": "3.9.2"
  }
 },
 "nbformat": 4,
 "nbformat_minor": 5
}

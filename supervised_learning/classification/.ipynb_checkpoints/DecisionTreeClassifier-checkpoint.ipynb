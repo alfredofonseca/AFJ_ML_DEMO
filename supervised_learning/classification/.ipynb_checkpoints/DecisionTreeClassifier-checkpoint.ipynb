{
 "cells": [
  {
   "cell_type": "markdown",
   "id": "ca547f1c",
   "metadata": {},
   "source": [
    "# Decision Tree Classifier"
   ]
  },
  {
   "cell_type": "markdown",
   "id": "a1ddff7c",
   "metadata": {},
   "source": [
    "Adapt from : https://scikit-learn.org/stable/modules/tree.html"
   ]
  },
  {
   "cell_type": "markdown",
   "id": "612ccee5",
   "metadata": {},
   "source": [
    "\"Decision tree learning is a method commonly used in data mining. The goal is to create a model that predicts the value of a target variable based on several input variables.\n",
    "\n",
    "A decision tree is a simple representation for classifying examples. For this section, assume that all of the input features have finite discrete domains, and there is a single target feature called the \"classification\". Each element of the domain of the classification is called a class. A decision tree or a classification tree is a tree in which each internal (non-leaf) node is labeled with an input feature. The arcs coming from a node labeled with an input feature are labeled with each of the possible values of the target feature or the arc leads to a subordinate decision node on a different input feature. Each leaf of the tree is labeled with a class or a probability distribution over the classes, signifying that the data set has been classified by the tree into either a specific class, or into a particular probability distribution (which, if the decision tree is well-constructed, is skewed towards certain subsets of classes).\n",
    "\n",
    "A tree is built by splitting the source set, constituting the root node of the tree, into subsets—which constitute the successor children. The splitting is based on a set of splitting rules based on classification features. This process is repeated on each derived subset in a recursive manner called recursive partitioning.\"\n",
    "\n",
    "https://en.wikipedia.org/wiki/Decision_tree_learning"
   ]
  },
  {
   "cell_type": "code",
   "execution_count": 1,
   "id": "f518ef00",
   "metadata": {},
   "outputs": [
    {
     "name": "stdout",
     "output_type": "stream",
     "text": [
      "The scikit-learn version is 0.24.2.\n"
     ]
    }
   ],
   "source": [
    "import sklearn\n",
    "import pandas as pd\n",
    "import numpy as np\n",
    "print('The scikit-learn version is {}.'.format(sklearn.__version__))"
   ]
  },
  {
   "cell_type": "markdown",
   "id": "817e78ae",
   "metadata": {},
   "source": [
    "scikit-learn Documentation : https://scikit-learn.org/0.24/"
   ]
  },
  {
   "cell_type": "markdown",
   "id": "20efa92e",
   "metadata": {},
   "source": [
    "## Read Data"
   ]
  },
  {
   "cell_type": "code",
   "execution_count": 2,
   "id": "f64a234e",
   "metadata": {},
   "outputs": [],
   "source": [
    "from sklearn.datasets import load_iris\n",
    "from sklearn import tree\n",
    "iris = load_iris()\n",
    "X, y = iris.data, iris.target"
   ]
  },
  {
   "cell_type": "code",
   "execution_count": 3,
   "id": "19481287",
   "metadata": {},
   "outputs": [],
   "source": [
    "# Pandas\n",
    "df = pd.DataFrame(data= np.c_[iris['data'], iris['target']],\n",
    "                     columns= iris['feature_names'] + ['target'])\n"
   ]
  },
  {
   "cell_type": "code",
   "execution_count": 4,
   "id": "f22cc956",
   "metadata": {},
   "outputs": [
    {
     "name": "stdout",
     "output_type": "stream",
     "text": [
      ".. _iris_dataset:\n",
      "\n",
      "Iris plants dataset\n",
      "--------------------\n",
      "\n",
      "**Data Set Characteristics:**\n",
      "\n",
      "    :Number of Instances: 150 (50 in each of three classes)\n",
      "    :Number of Attributes: 4 numeric, predictive attributes and the class\n",
      "    :Attribute Information:\n",
      "        - sepal length in cm\n",
      "        - sepal width in cm\n",
      "        - petal length in cm\n",
      "        - petal width in cm\n",
      "        - class:\n",
      "                - Iris-Setosa\n",
      "                - Iris-Versicolour\n",
      "                - Iris-Virginica\n",
      "                \n",
      "    :Summary Statistics:\n",
      "\n",
      "    ============== ==== ==== ======= ===== ====================\n",
      "                    Min  Max   Mean    SD   Class Correlation\n",
      "    ============== ==== ==== ======= ===== ====================\n",
      "    sepal length:   4.3  7.9   5.84   0.83    0.7826\n",
      "    sepal width:    2.0  4.4   3.05   0.43   -0.4194\n",
      "    petal length:   1.0  6.9   3.76   1.76    0.9490  (high!)\n",
      "    petal width:    0.1  2.5   1.20   0.76    0.9565  (high!)\n",
      "    ============== ==== ==== ======= ===== ====================\n",
      "\n",
      "    :Missing Attribute Values: None\n",
      "    :Class Distribution: 33.3% for each of 3 classes.\n",
      "    :Creator: R.A. Fisher\n",
      "    :Donor: Michael Marshall (MARSHALL%PLU@io.arc.nasa.gov)\n",
      "    :Date: July, 1988\n",
      "\n",
      "The famous Iris database, first used by Sir R.A. Fisher. The dataset is taken\n",
      "from Fisher's paper. Note that it's the same as in R, but not as in the UCI\n",
      "Machine Learning Repository, which has two wrong data points.\n",
      "\n",
      "This is perhaps the best known database to be found in the\n",
      "pattern recognition literature.  Fisher's paper is a classic in the field and\n",
      "is referenced frequently to this day.  (See Duda & Hart, for example.)  The\n",
      "data set contains 3 classes of 50 instances each, where each class refers to a\n",
      "type of iris plant.  One class is linearly separable from the other 2; the\n",
      "latter are NOT linearly separable from each other.\n",
      "\n",
      ".. topic:: References\n",
      "\n",
      "   - Fisher, R.A. \"The use of multiple measurements in taxonomic problems\"\n",
      "     Annual Eugenics, 7, Part II, 179-188 (1936); also in \"Contributions to\n",
      "     Mathematical Statistics\" (John Wiley, NY, 1950).\n",
      "   - Duda, R.O., & Hart, P.E. (1973) Pattern Classification and Scene Analysis.\n",
      "     (Q327.D83) John Wiley & Sons.  ISBN 0-471-22361-1.  See page 218.\n",
      "   - Dasarathy, B.V. (1980) \"Nosing Around the Neighborhood: A New System\n",
      "     Structure and Classification Rule for Recognition in Partially Exposed\n",
      "     Environments\".  IEEE Transactions on Pattern Analysis and Machine\n",
      "     Intelligence, Vol. PAMI-2, No. 1, 67-71.\n",
      "   - Gates, G.W. (1972) \"The Reduced Nearest Neighbor Rule\".  IEEE Transactions\n",
      "     on Information Theory, May 1972, 431-433.\n",
      "   - See also: 1988 MLC Proceedings, 54-64.  Cheeseman et al\"s AUTOCLASS II\n",
      "     conceptual clustering system finds 3 classes in the data.\n",
      "   - Many, many more ...\n"
     ]
    }
   ],
   "source": [
    "print(iris.DESCR)"
   ]
  },
  {
   "cell_type": "markdown",
   "id": "1bca3247",
   "metadata": {},
   "source": [
    "###### Iris Flowers\n",
    "\n",
    "<img src=\"classes.jpeg\" alt=\"Chansey\" width=\"800\"/>"
   ]
  },
  {
   "cell_type": "markdown",
   "id": "a6d977e6",
   "metadata": {},
   "source": [
    "###### Flower Parts\n",
    "\n",
    "<img src=\"flower-parts.png\" alt=\"Chansey\" width=\"200\"/>"
   ]
  },
  {
   "cell_type": "markdown",
   "id": "35fd0589",
   "metadata": {},
   "source": [
    "## Data Exploration"
   ]
  },
  {
   "cell_type": "code",
   "execution_count": 5,
   "id": "4cdd3a54",
   "metadata": {},
   "outputs": [
    {
     "data": {
      "text/html": [
       "<div>\n",
       "<style scoped>\n",
       "    .dataframe tbody tr th:only-of-type {\n",
       "        vertical-align: middle;\n",
       "    }\n",
       "\n",
       "    .dataframe tbody tr th {\n",
       "        vertical-align: top;\n",
       "    }\n",
       "\n",
       "    .dataframe thead th {\n",
       "        text-align: right;\n",
       "    }\n",
       "</style>\n",
       "<table border=\"1\" class=\"dataframe\">\n",
       "  <thead>\n",
       "    <tr style=\"text-align: right;\">\n",
       "      <th></th>\n",
       "      <th>sepal length (cm)</th>\n",
       "      <th>sepal width (cm)</th>\n",
       "      <th>petal length (cm)</th>\n",
       "      <th>petal width (cm)</th>\n",
       "      <th>target</th>\n",
       "    </tr>\n",
       "  </thead>\n",
       "  <tbody>\n",
       "    <tr>\n",
       "      <th>0</th>\n",
       "      <td>5.1</td>\n",
       "      <td>3.5</td>\n",
       "      <td>1.4</td>\n",
       "      <td>0.2</td>\n",
       "      <td>0.0</td>\n",
       "    </tr>\n",
       "    <tr>\n",
       "      <th>1</th>\n",
       "      <td>4.9</td>\n",
       "      <td>3.0</td>\n",
       "      <td>1.4</td>\n",
       "      <td>0.2</td>\n",
       "      <td>0.0</td>\n",
       "    </tr>\n",
       "    <tr>\n",
       "      <th>2</th>\n",
       "      <td>4.7</td>\n",
       "      <td>3.2</td>\n",
       "      <td>1.3</td>\n",
       "      <td>0.2</td>\n",
       "      <td>0.0</td>\n",
       "    </tr>\n",
       "    <tr>\n",
       "      <th>3</th>\n",
       "      <td>4.6</td>\n",
       "      <td>3.1</td>\n",
       "      <td>1.5</td>\n",
       "      <td>0.2</td>\n",
       "      <td>0.0</td>\n",
       "    </tr>\n",
       "    <tr>\n",
       "      <th>4</th>\n",
       "      <td>5.0</td>\n",
       "      <td>3.6</td>\n",
       "      <td>1.4</td>\n",
       "      <td>0.2</td>\n",
       "      <td>0.0</td>\n",
       "    </tr>\n",
       "  </tbody>\n",
       "</table>\n",
       "</div>"
      ],
      "text/plain": [
       "   sepal length (cm)  sepal width (cm)  petal length (cm)  petal width (cm)  \\\n",
       "0                5.1               3.5                1.4               0.2   \n",
       "1                4.9               3.0                1.4               0.2   \n",
       "2                4.7               3.2                1.3               0.2   \n",
       "3                4.6               3.1                1.5               0.2   \n",
       "4                5.0               3.6                1.4               0.2   \n",
       "\n",
       "   target  \n",
       "0     0.0  \n",
       "1     0.0  \n",
       "2     0.0  \n",
       "3     0.0  \n",
       "4     0.0  "
      ]
     },
     "execution_count": 5,
     "metadata": {},
     "output_type": "execute_result"
    }
   ],
   "source": [
    "df.head()"
   ]
  },
  {
   "cell_type": "code",
   "execution_count": 6,
   "id": "0dcc78aa",
   "metadata": {},
   "outputs": [
    {
     "data": {
      "text/plain": [
       "(150, 5)"
      ]
     },
     "execution_count": 6,
     "metadata": {},
     "output_type": "execute_result"
    }
   ],
   "source": [
    "df.shape"
   ]
  },
  {
   "cell_type": "code",
   "execution_count": 7,
   "id": "d1798acc",
   "metadata": {},
   "outputs": [
    {
     "name": "stdout",
     "output_type": "stream",
     "text": [
      "<class 'pandas.core.frame.DataFrame'>\n",
      "RangeIndex: 150 entries, 0 to 149\n",
      "Data columns (total 5 columns):\n",
      " #   Column             Non-Null Count  Dtype  \n",
      "---  ------             --------------  -----  \n",
      " 0   sepal length (cm)  150 non-null    float64\n",
      " 1   sepal width (cm)   150 non-null    float64\n",
      " 2   petal length (cm)  150 non-null    float64\n",
      " 3   petal width (cm)   150 non-null    float64\n",
      " 4   target             150 non-null    float64\n",
      "dtypes: float64(5)\n",
      "memory usage: 6.0 KB\n"
     ]
    }
   ],
   "source": [
    "df.info()"
   ]
  },
  {
   "cell_type": "markdown",
   "id": "3c252266",
   "metadata": {},
   "source": [
    "## Plot"
   ]
  },
  {
   "cell_type": "code",
   "execution_count": 8,
   "id": "7ed5cade",
   "metadata": {},
   "outputs": [],
   "source": [
    "import matplotlib.pyplot as plt\n",
    "colors = ['red', 'green', 'blue']"
   ]
  },
  {
   "cell_type": "markdown",
   "id": "19e683f0",
   "metadata": {},
   "source": [
    "#### Sepal"
   ]
  },
  {
   "cell_type": "code",
   "execution_count": 9,
   "id": "55f97c64",
   "metadata": {},
   "outputs": [
    {
     "name": "stdout",
     "output_type": "stream",
     "text": [
      "--> Plotting class 0\n",
      "...50 dots - color red\n",
      "--> Plotting class 1\n",
      "...50 dots - color green\n",
      "--> Plotting class 2\n",
      "...50 dots - color blue\n"
     ]
    },
    {
     "data": {
      "image/png": "[encoded data removed]",
      "text/plain": [
       "<Figure size 432x288 with 1 Axes>"
      ]
     },
     "metadata": {
      "needs_background": "light"
     },
     "output_type": "display_data"
    }
   ],
   "source": [
    "for i in range(0, 3):\n",
    "    print(f\"--> Plotting class {i}\")\n",
    "    one_class_df = df[df['target']==i]\n",
    "    print(f\"...{one_class_df.shape[0]} dots - color {colors[i]}\")\n",
    "    # plot\n",
    "    plt.scatter(\n",
    "        one_class_df['sepal length (cm)'], one_class_df['sepal width (cm)'],  color=colors[i]\n",
    "    )\n",
    "\n",
    "  \n",
    "plt.xlabel('sepal length')\n",
    "plt.ylabel('sepal width')\n",
    "\n",
    "plt.show()"
   ]
  },
  {
   "cell_type": "markdown",
   "id": "1c60d116",
   "metadata": {},
   "source": [
    "#### Petal"
   ]
  },
  {
   "cell_type": "code",
   "execution_count": 10,
   "id": "94e16c1c",
   "metadata": {},
   "outputs": [
    {
     "name": "stdout",
     "output_type": "stream",
     "text": [
      "--> Plotting class 0\n",
      "...50 dots - color red\n",
      "--> Plotting class 1\n",
      "...50 dots - color green\n",
      "--> Plotting class 2\n",
      "...50 dots - color blue\n"
     ]
    },
    {
     "data": {
      "image/png": "[encoded data removed]",
      "text/plain": [
       "<Figure size 432x288 with 1 Axes>"
      ]
     },
     "metadata": {
      "needs_background": "light"
     },
     "output_type": "display_data"
    }
   ],
   "source": [
    "for i in range(0, 3):\n",
    "    print(f\"--> Plotting class {i}\")\n",
    "    one_class_df = df[df['target']==i]\n",
    "    print(f\"...{one_class_df.shape[0]} dots - color {colors[i]}\")\n",
    "    # plot\n",
    "    plt.scatter(\n",
    "        one_class_df['petal length (cm)'], one_class_df['petal width (cm)'],  color=colors[i]\n",
    "    )\n",
    "\n",
    "  \n",
    "plt.xlabel('petal length')\n",
    "plt.ylabel('petal width')\n",
    "\n",
    "plt.show()\n"
   ]
  },
  {
   "cell_type": "markdown",
   "id": "bf7fdc15",
   "metadata": {},
   "source": [
    "--> Petal has High Class Correlation"
   ]
  },
  {
   "cell_type": "markdown",
   "id": "b8db7b31",
   "metadata": {},
   "source": [
    "## Train Test Split"
   ]
  },
  {
   "cell_type": "code",
   "execution_count": 11,
   "id": "b1e6acba",
   "metadata": {},
   "outputs": [],
   "source": [
    "from sklearn.model_selection import train_test_split\n",
    "X_train, X_test, y_train, y_test = train_test_split(X, y, test_size=0.35, random_state=42)"
   ]
  },
  {
   "cell_type": "markdown",
   "id": "66bbd7c8",
   "metadata": {},
   "source": [
    "## Creating the ML Model"
   ]
  },
  {
   "cell_type": "code",
   "execution_count": 12,
   "id": "1d6a4f95",
   "metadata": {},
   "outputs": [],
   "source": [
    "from sklearn.metrics import accuracy_score"
   ]
  },
  {
   "cell_type": "code",
   "execution_count": 13,
   "id": "c1fe4cce",
   "metadata": {},
   "outputs": [],
   "source": [
    "clf = tree.DecisionTreeClassifier(random_state=0)\n",
    "clf = clf.fit(X_train, y_train)"
   ]
  },
  {
   "cell_type": "code",
   "execution_count": 14,
   "id": "e38f1bed",
   "metadata": {},
   "outputs": [
    {
     "data": {
      "text/plain": [
       "[Text(181.35000000000002, 201.90857142857143, 'X[3] <= 0.8\\ngini = 0.666\\nsamples = 97\\nvalue = [31, 33, 33]'),\n",
       " Text(153.45000000000002, 170.84571428571428, 'gini = 0.0\\nsamples = 31\\nvalue = [31, 0, 0]'),\n",
       " Text(209.25000000000003, 170.84571428571428, 'X[3] <= 1.75\\ngini = 0.5\\nsamples = 66\\nvalue = [0, 33, 33]'),\n",
       " Text(139.5, 139.78285714285715, 'X[2] <= 5.35\\ngini = 0.198\\nsamples = 36\\nvalue = [0, 32, 4]'),\n",
       " Text(111.60000000000001, 108.72, 'X[0] <= 4.95\\ngini = 0.111\\nsamples = 34\\nvalue = [0, 32, 2]'),\n",
       " Text(55.800000000000004, 77.65714285714284, 'X[3] <= 1.35\\ngini = 0.5\\nsamples = 2\\nvalue = [0, 1, 1]'),\n",
       " Text(27.900000000000002, 46.59428571428572, 'gini = 0.0\\nsamples = 1\\nvalue = [0, 1, 0]'),\n",
       " Text(83.7, 46.59428571428572, 'gini = 0.0\\nsamples = 1\\nvalue = [0, 0, 1]'),\n",
       " Text(167.4, 77.65714285714284, 'X[1] <= 2.25\\ngini = 0.061\\nsamples = 32\\nvalue = [0, 31, 1]'),\n",
       " Text(139.5, 46.59428571428572, 'X[3] <= 1.25\\ngini = 0.444\\nsamples = 3\\nvalue = [0, 2, 1]'),\n",
       " Text(111.60000000000001, 15.531428571428563, 'gini = 0.0\\nsamples = 2\\nvalue = [0, 2, 0]'),\n",
       " Text(167.4, 15.531428571428563, 'gini = 0.0\\nsamples = 1\\nvalue = [0, 0, 1]'),\n",
       " Text(195.3, 46.59428571428572, 'gini = 0.0\\nsamples = 29\\nvalue = [0, 29, 0]'),\n",
       " Text(167.4, 108.72, 'gini = 0.0\\nsamples = 2\\nvalue = [0, 0, 2]'),\n",
       " Text(279.0, 139.78285714285715, 'X[2] <= 4.85\\ngini = 0.064\\nsamples = 30\\nvalue = [0, 1, 29]'),\n",
       " Text(251.10000000000002, 108.72, 'X[1] <= 3.1\\ngini = 0.444\\nsamples = 3\\nvalue = [0, 1, 2]'),\n",
       " Text(223.20000000000002, 77.65714285714284, 'gini = 0.0\\nsamples = 2\\nvalue = [0, 0, 2]'),\n",
       " Text(279.0, 77.65714285714284, 'gini = 0.0\\nsamples = 1\\nvalue = [0, 1, 0]'),\n",
       " Text(306.90000000000003, 108.72, 'gini = 0.0\\nsamples = 27\\nvalue = [0, 0, 27]')]"
      ]
     },
     "execution_count": 14,
     "metadata": {},
     "output_type": "execute_result"
    },
    {
     "data": {
      "image/png": "[encoded data removed]",
      "text/plain": [
       "<Figure size 432x288 with 1 Axes>"
      ]
     },
     "metadata": {
      "needs_background": "light"
     },
     "output_type": "display_data"
    }
   ],
   "source": [
    "tree.plot_tree(clf)"
   ]
  },
  {
   "cell_type": "code",
   "execution_count": 15,
   "id": "21afa2c1",
   "metadata": {},
   "outputs": [
    {
     "name": "stdout",
     "output_type": "stream",
     "text": [
      "|--- petal width (cm) <= 0.80\n",
      "|   |--- class: 0\n",
      "|--- petal width (cm) >  0.80\n",
      "|   |--- petal width (cm) <= 1.75\n",
      "|   |   |--- petal length (cm) <= 5.35\n",
      "|   |   |   |--- sepal length (cm) <= 4.95\n",
      "|   |   |   |   |--- petal width (cm) <= 1.35\n",
      "|   |   |   |   |   |--- class: 1\n",
      "|   |   |   |   |--- petal width (cm) >  1.35\n",
      "|   |   |   |   |   |--- class: 2\n",
      "|   |   |   |--- sepal length (cm) >  4.95\n",
      "|   |   |   |   |--- sepal width (cm) <= 2.25\n",
      "|   |   |   |   |   |--- petal width (cm) <= 1.25\n",
      "|   |   |   |   |   |   |--- class: 1\n",
      "|   |   |   |   |   |--- petal width (cm) >  1.25\n",
      "|   |   |   |   |   |   |--- class: 2\n",
      "|   |   |   |   |--- sepal width (cm) >  2.25\n",
      "|   |   |   |   |   |--- class: 1\n",
      "|   |   |--- petal length (cm) >  5.35\n",
      "|   |   |   |--- class: 2\n",
      "|   |--- petal width (cm) >  1.75\n",
      "|   |   |--- petal length (cm) <= 4.85\n",
      "|   |   |   |--- sepal width (cm) <= 3.10\n",
      "|   |   |   |   |--- class: 2\n",
      "|   |   |   |--- sepal width (cm) >  3.10\n",
      "|   |   |   |   |--- class: 1\n",
      "|   |   |--- petal length (cm) >  4.85\n",
      "|   |   |   |--- class: 2\n",
      "\n"
     ]
    }
   ],
   "source": [
    "from sklearn.tree import export_text\n",
    "r = export_text(clf, feature_names=iris['feature_names'])\n",
    "print(r)"
   ]
  },
  {
   "cell_type": "markdown",
   "id": "0a13265c",
   "metadata": {},
   "source": [
    "###### Prediction"
   ]
  },
  {
   "cell_type": "code",
   "execution_count": 16,
   "id": "b16a27d2",
   "metadata": {},
   "outputs": [
    {
     "name": "stdout",
     "output_type": "stream",
     "text": [
      "1st Test Row : sepal length (cm) | sepal width (cm) | petal length (cm) | petal width (cm)\n"
     ]
    },
    {
     "data": {
      "text/plain": [
       "array([6.1, 2.8, 4.7, 1.2])"
      ]
     },
     "execution_count": 16,
     "metadata": {},
     "output_type": "execute_result"
    }
   ],
   "source": [
    "print(f\"1st Test Row : sepal length (cm) | sepal width (cm) | petal length (cm) | petal width (cm)\")\n",
    "X_test[0]"
   ]
  },
  {
   "cell_type": "code",
   "execution_count": 17,
   "id": "cf23728f",
   "metadata": {},
   "outputs": [
    {
     "name": "stdout",
     "output_type": "stream",
     "text": [
      "The class is :\n"
     ]
    },
    {
     "data": {
      "text/plain": [
       "1"
      ]
     },
     "execution_count": 17,
     "metadata": {},
     "output_type": "execute_result"
    }
   ],
   "source": [
    "print(\"The class is :\")\n",
    "y_test[0]"
   ]
  },
  {
   "cell_type": "code",
   "execution_count": 18,
   "id": "56392045",
   "metadata": {},
   "outputs": [
    {
     "name": "stdout",
     "output_type": "stream",
     "text": [
      "Prediction is [1]\n"
     ]
    }
   ],
   "source": [
    "X_test_1st_row_2d_array = np.array([X_test[0]])\n",
    "y_pred = clf.predict(X_test_1st_row_2d_array)\n",
    "print(f\"Prediction is {y_pred}\")"
   ]
  },
  {
   "cell_type": "markdown",
   "id": "622e7341",
   "metadata": {},
   "source": [
    "###### Classification Accuracy\n",
    "\n",
    "\"Classification Accuracy is what we usually mean, when we use the term accuracy. It is the ratio of number of correct predictions to the total number of input samples.\"\n",
    "\n",
    "https://towardsdatascience.com/metrics-to-evaluate-your-machine-learning-algorithm-f10ba6e38234\n",
    "\n",
    "Classification Accuracy = Number of Correct Predictions / Total number of predictions"
   ]
  },
  {
   "cell_type": "code",
   "execution_count": 19,
   "id": "e250d922",
   "metadata": {},
   "outputs": [
    {
     "name": "stdout",
     "output_type": "stream",
     "text": [
      "Train Score\n"
     ]
    },
    {
     "data": {
      "text/plain": [
       "1.0"
      ]
     },
     "execution_count": 19,
     "metadata": {},
     "output_type": "execute_result"
    }
   ],
   "source": [
    "print(\"Train Score\")\n",
    "y_pred = clf.predict(X_train)\n",
    "accuracy_score(y_train, y_pred)"
   ]
  },
  {
   "cell_type": "code",
   "execution_count": 20,
   "id": "69b16dfa",
   "metadata": {},
   "outputs": [
    {
     "name": "stdout",
     "output_type": "stream",
     "text": [
      "Test Score\n"
     ]
    },
    {
     "data": {
      "text/plain": [
       "0.9622641509433962"
      ]
     },
     "execution_count": 20,
     "metadata": {},
     "output_type": "execute_result"
    }
   ],
   "source": [
    "print(\"Test Score\")\n",
    "y_pred = clf.predict(X_test)\n",
    "accuracy_score(y_test, y_pred)"
   ]
  },
  {
   "cell_type": "markdown",
   "id": "d48c6e92",
   "metadata": {},
   "source": [
    "Very good on Train Data, not so good on Test Data : Overfitting"
   ]
  },
  {
   "cell_type": "markdown",
   "id": "eb8801ae",
   "metadata": {},
   "source": [
    "## Grid Search"
   ]
  },
  {
   "cell_type": "markdown",
   "id": "ea4deb80",
   "metadata": {},
   "source": [
    "###### Grid-Search\n",
    "\n",
    "\"Grid-searching is the process of scanning the data to configure optimal parameters for a given model. Depending on the type of model utilized, certain parameters are necessary. Grid-searching does NOT only apply to one model type. Grid-searching can be applied across machine learning to calculate the best parameters to use for any given model.\"\n",
    "\n",
    "https://elutins.medium.com/grid-searching-in-machine-learning-quick-explanation-and-python-implementation-550552200596"
   ]
  },
  {
   "cell_type": "code",
   "execution_count": 21,
   "id": "f985919c",
   "metadata": {},
   "outputs": [
    {
     "name": "stdout",
     "output_type": "stream",
     "text": [
      "[{'max_depth': 1, 'min_samples_leaf': 1}, {'max_depth': 1, 'min_samples_leaf': 2}, {'max_depth': 1, 'min_samples_leaf': 3}, {'max_depth': 1, 'min_samples_leaf': 5}, {'max_depth': 2, 'min_samples_leaf': 1}, {'max_depth': 2, 'min_samples_leaf': 2}, {'max_depth': 2, 'min_samples_leaf': 3}, {'max_depth': 2, 'min_samples_leaf': 5}, {'max_depth': 3, 'min_samples_leaf': 1}, {'max_depth': 3, 'min_samples_leaf': 2}, {'max_depth': 3, 'min_samples_leaf': 3}, {'max_depth': 3, 'min_samples_leaf': 5}, {'max_depth': 4, 'min_samples_leaf': 1}, {'max_depth': 4, 'min_samples_leaf': 2}, {'max_depth': 4, 'min_samples_leaf': 3}, {'max_depth': 4, 'min_samples_leaf': 5}, {'max_depth': 5, 'min_samples_leaf': 1}, {'max_depth': 5, 'min_samples_leaf': 2}, {'max_depth': 5, 'min_samples_leaf': 3}, {'max_depth': 5, 'min_samples_leaf': 5}, {'max_depth': 6, 'min_samples_leaf': 1}, {'max_depth': 6, 'min_samples_leaf': 2}, {'max_depth': 6, 'min_samples_leaf': 3}, {'max_depth': 6, 'min_samples_leaf': 5}, {'max_depth': 7, 'min_samples_leaf': 1}, {'max_depth': 7, 'min_samples_leaf': 2}, {'max_depth': 7, 'min_samples_leaf': 3}, {'max_depth': 7, 'min_samples_leaf': 5}, {'max_depth': 8, 'min_samples_leaf': 1}, {'max_depth': 8, 'min_samples_leaf': 2}, {'max_depth': 8, 'min_samples_leaf': 3}, {'max_depth': 8, 'min_samples_leaf': 5}, {'max_depth': 9, 'min_samples_leaf': 1}, {'max_depth': 9, 'min_samples_leaf': 2}, {'max_depth': 9, 'min_samples_leaf': 3}, {'max_depth': 9, 'min_samples_leaf': 5}, {'max_depth': 10, 'min_samples_leaf': 1}, {'max_depth': 10, 'min_samples_leaf': 2}, {'max_depth': 10, 'min_samples_leaf': 3}, {'max_depth': 10, 'min_samples_leaf': 5}]\n"
     ]
    }
   ],
   "source": [
    "from sklearn.model_selection import ParameterGrid\n",
    "tree_param = {'max_depth':[1,2,3,4,5,6,7,8,9,10], 'min_samples_leaf':[1,2,3,5]}\n",
    "combinations = list(ParameterGrid(tree_param)) \n",
    "print(combinations)"
   ]
  },
  {
   "cell_type": "code",
   "execution_count": 22,
   "id": "73ce88dc",
   "metadata": {},
   "outputs": [
    {
     "name": "stdout",
     "output_type": "stream",
     "text": [
      "--> combination : {'max_depth': 1, 'min_samples_leaf': 1}\n",
      "... Train Score : 0.6597938144329897\n",
      "... Test Score : 0.6792452830188679\n",
      "... best test_score until now: 0.6792452830188679\n",
      "--> combination : {'max_depth': 1, 'min_samples_leaf': 2}\n",
      "... Train Score : 0.6597938144329897\n",
      "... Test Score : 0.6792452830188679\n",
      "--> combination : {'max_depth': 1, 'min_samples_leaf': 3}\n",
      "... Train Score : 0.6597938144329897\n",
      "... Test Score : 0.6792452830188679\n",
      "--> combination : {'max_depth': 1, 'min_samples_leaf': 5}\n",
      "... Train Score : 0.6597938144329897\n",
      "... Test Score : 0.6792452830188679\n",
      "--> combination : {'max_depth': 2, 'min_samples_leaf': 1}\n",
      "... Train Score : 0.9484536082474226\n",
      "... Test Score : 0.9811320754716981\n",
      "... best test_score until now: 0.9811320754716981\n",
      "--> combination : {'max_depth': 2, 'min_samples_leaf': 2}\n",
      "... Train Score : 0.9484536082474226\n",
      "... Test Score : 0.9811320754716981\n",
      "--> combination : {'max_depth': 2, 'min_samples_leaf': 3}\n",
      "... Train Score : 0.9484536082474226\n",
      "... Test Score : 0.9811320754716981\n",
      "--> combination : {'max_depth': 2, 'min_samples_leaf': 5}\n",
      "... Train Score : 0.9484536082474226\n",
      "... Test Score : 0.9811320754716981\n",
      "--> combination : {'max_depth': 3, 'min_samples_leaf': 1}\n",
      "... Train Score : 0.9690721649484536\n",
      "... Test Score : 0.9811320754716981\n",
      "--> combination : {'max_depth': 3, 'min_samples_leaf': 2}\n",
      "... Train Score : 0.9690721649484536\n",
      "... Test Score : 0.9811320754716981\n",
      "--> combination : {'max_depth': 3, 'min_samples_leaf': 3}\n",
      "... Train Score : 0.9587628865979382\n",
      "... Test Score : 1.0\n",
      "... best test_score until now: 1.0\n",
      "--> combination : {'max_depth': 3, 'min_samples_leaf': 5}\n",
      "... Train Score : 0.9587628865979382\n",
      "... Test Score : 1.0\n",
      "--> combination : {'max_depth': 4, 'min_samples_leaf': 1}\n",
      "... Train Score : 0.979381443298969\n",
      "... Test Score : 0.9811320754716981\n",
      "--> combination : {'max_depth': 4, 'min_samples_leaf': 2}\n",
      "... Train Score : 0.9690721649484536\n",
      "... Test Score : 0.9811320754716981\n",
      "--> combination : {'max_depth': 4, 'min_samples_leaf': 3}\n",
      "... Train Score : 0.9587628865979382\n",
      "... Test Score : 1.0\n",
      "--> combination : {'max_depth': 4, 'min_samples_leaf': 5}\n",
      "... Train Score : 0.9587628865979382\n",
      "... Test Score : 1.0\n",
      "--> combination : {'max_depth': 5, 'min_samples_leaf': 1}\n",
      "... Train Score : 0.9896907216494846\n",
      "... Test Score : 0.9811320754716981\n",
      "--> combination : {'max_depth': 5, 'min_samples_leaf': 2}\n",
      "... Train Score : 0.9690721649484536\n",
      "... Test Score : 0.9811320754716981\n",
      "--> combination : {'max_depth': 5, 'min_samples_leaf': 3}\n",
      "... Train Score : 0.9587628865979382\n",
      "... Test Score : 1.0\n",
      "--> combination : {'max_depth': 5, 'min_samples_leaf': 5}\n",
      "... Train Score : 0.9587628865979382\n",
      "... Test Score : 1.0\n",
      "--> combination : {'max_depth': 6, 'min_samples_leaf': 1}\n",
      "... Train Score : 1.0\n",
      "... Test Score : 0.9622641509433962\n",
      "--> combination : {'max_depth': 6, 'min_samples_leaf': 2}\n",
      "... Train Score : 0.9690721649484536\n",
      "... Test Score : 0.9811320754716981\n",
      "--> combination : {'max_depth': 6, 'min_samples_leaf': 3}\n",
      "... Train Score : 0.9587628865979382\n",
      "... Test Score : 1.0\n",
      "--> combination : {'max_depth': 6, 'min_samples_leaf': 5}\n",
      "... Train Score : 0.9587628865979382\n",
      "... Test Score : 1.0\n",
      "--> combination : {'max_depth': 7, 'min_samples_leaf': 1}\n",
      "... Train Score : 1.0\n",
      "... Test Score : 0.9622641509433962\n",
      "--> combination : {'max_depth': 7, 'min_samples_leaf': 2}\n",
      "... Train Score : 0.9690721649484536\n",
      "... Test Score : 0.9811320754716981\n",
      "--> combination : {'max_depth': 7, 'min_samples_leaf': 3}\n",
      "... Train Score : 0.9587628865979382\n",
      "... Test Score : 1.0\n",
      "--> combination : {'max_depth': 7, 'min_samples_leaf': 5}\n",
      "... Train Score : 0.9587628865979382\n",
      "... Test Score : 1.0\n",
      "--> combination : {'max_depth': 8, 'min_samples_leaf': 1}\n",
      "... Train Score : 1.0\n",
      "... Test Score : 0.9622641509433962\n",
      "--> combination : {'max_depth': 8, 'min_samples_leaf': 2}\n",
      "... Train Score : 0.9690721649484536\n",
      "... Test Score : 0.9811320754716981\n",
      "--> combination : {'max_depth': 8, 'min_samples_leaf': 3}\n",
      "... Train Score : 0.9587628865979382\n",
      "... Test Score : 1.0\n",
      "--> combination : {'max_depth': 8, 'min_samples_leaf': 5}\n",
      "... Train Score : 0.9587628865979382\n",
      "... Test Score : 1.0\n",
      "--> combination : {'max_depth': 9, 'min_samples_leaf': 1}\n",
      "... Train Score : 1.0\n",
      "... Test Score : 0.9622641509433962\n",
      "--> combination : {'max_depth': 9, 'min_samples_leaf': 2}\n",
      "... Train Score : 0.9690721649484536\n",
      "... Test Score : 0.9811320754716981\n",
      "--> combination : {'max_depth': 9, 'min_samples_leaf': 3}\n",
      "... Train Score : 0.9587628865979382\n",
      "... Test Score : 1.0\n",
      "--> combination : {'max_depth': 9, 'min_samples_leaf': 5}\n",
      "... Train Score : 0.9587628865979382\n",
      "... Test Score : 1.0\n",
      "--> combination : {'max_depth': 10, 'min_samples_leaf': 1}\n",
      "... Train Score : 1.0\n",
      "... Test Score : 0.9622641509433962\n",
      "--> combination : {'max_depth': 10, 'min_samples_leaf': 2}\n",
      "... Train Score : 0.9690721649484536\n",
      "... Test Score : 0.9811320754716981\n",
      "--> combination : {'max_depth': 10, 'min_samples_leaf': 3}\n",
      "... Train Score : 0.9587628865979382\n",
      "... Test Score : 1.0\n",
      "--> combination : {'max_depth': 10, 'min_samples_leaf': 5}\n",
      "... Train Score : 0.9587628865979382\n",
      "... Test Score : 1.0\n",
      "==> max_test_score: 1.0\n"
     ]
    }
   ],
   "source": [
    "max_test_score = 0\n",
    "best_clf = None\n",
    "\n",
    "for combination in combinations:\n",
    "    print(f\"--> combination : {combination}\")\n",
    "    clf = tree.DecisionTreeClassifier(max_depth=combination['max_depth'],\n",
    "                                      min_samples_leaf=combination['min_samples_leaf'],\n",
    "                                      random_state=0)\n",
    "    clf = clf.fit(X_train, y_train)\n",
    "\n",
    "    # Train Score:\n",
    "    y_pred = clf.predict(X_train)\n",
    "    print(f\"... Train Score : {accuracy_score(y_train, y_pred)}\")\n",
    "    \n",
    "    # Test Score:\n",
    "    y_pred = clf.predict(X_test)\n",
    "    test_score = accuracy_score(y_test, y_pred)\n",
    "    print(f\"... Test Score : {test_score}\")\n",
    "    \n",
    "    if test_score > max_test_score:\n",
    "        print(f\"... best test_score until now: {test_score}\")\n",
    "        max_test_score = test_score\n",
    "        best_clf = clf\n",
    "        \n",
    "# clf is going to have the best Test Score classifier \n",
    "print(f\"==> max_test_score: {max_test_score}\")\n",
    "clf = best_clf"
   ]
  },
  {
   "cell_type": "code",
   "execution_count": 23,
   "id": "9ed12b5a",
   "metadata": {},
   "outputs": [
    {
     "name": "stdout",
     "output_type": "stream",
     "text": [
      "DecisionTreeClassifier(max_depth=3, min_samples_leaf=3, random_state=0)\n"
     ]
    }
   ],
   "source": [
    "print(clf)"
   ]
  },
  {
   "cell_type": "code",
   "execution_count": 24,
   "id": "3cd2475c",
   "metadata": {},
   "outputs": [
    {
     "name": "stdout",
     "output_type": "stream",
     "text": [
      "Train Score\n"
     ]
    },
    {
     "data": {
      "text/plain": [
       "0.9587628865979382"
      ]
     },
     "execution_count": 24,
     "metadata": {},
     "output_type": "execute_result"
    }
   ],
   "source": [
    "print(\"Train Score\")\n",
    "y_pred = clf.predict(X_train)\n",
    "accuracy_score(y_train, y_pred)"
   ]
  },
  {
   "cell_type": "code",
   "execution_count": 25,
   "id": "380758a2",
   "metadata": {},
   "outputs": [
    {
     "name": "stdout",
     "output_type": "stream",
     "text": [
      "Test Score\n"
     ]
    },
    {
     "data": {
      "text/plain": [
       "1.0"
      ]
     },
     "execution_count": 25,
     "metadata": {},
     "output_type": "execute_result"
    }
   ],
   "source": [
    "print(\"Test Score\")\n",
    "y_pred = clf.predict(X_test)\n",
    "accuracy_score(y_test, y_pred)"
   ]
  },
  {
   "cell_type": "markdown",
   "id": "dbd74619",
   "metadata": {},
   "source": [
    "###### Overfitting\n",
    "\n",
    "Overfitting is a concept in data science, which occurs when a statistical model fits exactly against its training data. When the model memorizes the noise and fits too closely to the training set, the model becomes “overfitted,” and it is unable to generalize well to new data.\n",
    "\n",
    "https://www.ibm.com/cloud/learn/overfitting#:~:text=Overfitting%20is%20a%20concept%20in,exactly%20against%20its%20training%20data.&text=When%20the%20model%20memorizes%20the,generalize%20well%20to%20new%20data."
   ]
  },
  {
   "cell_type": "code",
   "execution_count": 26,
   "id": "80f47f08",
   "metadata": {},
   "outputs": [
    {
     "name": "stdout",
     "output_type": "stream",
     "text": [
      "|--- petal width (cm) <= 0.80\n",
      "|   |--- class: 0\n",
      "|--- petal width (cm) >  0.80\n",
      "|   |--- petal width (cm) <= 1.75\n",
      "|   |   |--- petal length (cm) <= 4.95\n",
      "|   |   |   |--- class: 1\n",
      "|   |   |--- petal length (cm) >  4.95\n",
      "|   |   |   |--- class: 2\n",
      "|   |--- petal width (cm) >  1.75\n",
      "|   |   |--- petal length (cm) <= 4.85\n",
      "|   |   |   |--- class: 2\n",
      "|   |   |--- petal length (cm) >  4.85\n",
      "|   |   |   |--- class: 2\n",
      "\n"
     ]
    }
   ],
   "source": [
    "from sklearn.tree import export_text\n",
    "r = export_text(clf, feature_names=iris['feature_names'])\n",
    "print(r)"
   ]
  },
  {
   "cell_type": "markdown",
   "id": "7e9534ce",
   "metadata": {},
   "source": [
    "PS: For grid search it would be better using cross-validation (train data, test data and validation data). But to make the example simple (learning purposes), I did not use Cross Validation"
   ]
  },
  {
   "cell_type": "code",
   "execution_count": null,
   "id": "c0e6300b",
   "metadata": {},
   "outputs": [],
   "source": []
  }
 ],
 "metadata": {
  "kernelspec": {
   "display_name": "Python 3",
   "language": "python",
   "name": "python3"
  },
  "language_info": {
   "codemirror_mode": {
    "name": "ipython",
    "version": 3
   },
   "file_extension": ".py",
   "mimetype": "text/x-python",
   "name": "python",
   "nbconvert_exporter": "python",
   "pygments_lexer": "ipython3",
   "version": "3.9.2"
  }
 },
 "nbformat": 4,
 "nbformat_minor": 5
}
